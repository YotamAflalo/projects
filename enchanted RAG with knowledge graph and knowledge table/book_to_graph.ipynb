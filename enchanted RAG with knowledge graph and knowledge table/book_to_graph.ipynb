{
 "cells": [
  {
   "cell_type": "markdown",
   "metadata": {},
   "source": [
    "### setup"
   ]
  },
  {
   "cell_type": "code",
   "execution_count": 1,
   "metadata": {},
   "outputs": [],
   "source": [
    "from book_to_table_func import *\n",
    "import warnings\n",
    "warnings.filterwarnings('ignore')\n",
    "#from openai import OpenAI\n",
    "from tqdm.auto import tqdm\n",
    "from PyPDF2 import PdfReader\n",
    "import ast\n",
    "import os\n",
    "import pandas as pd\n",
    "import numpy as np\n",
    "\n",
    "from book_to_graph_func import remove_quotes, ask_haike,chanks_to_df_for_graph,SYS_PROMPT\n",
    "from book_to_table_func import book_to_chank_dict_list\n"
   ]
  },
  {
   "cell_type": "markdown",
   "metadata": {},
   "source": [
    "### load doc and find headers"
   ]
  },
  {
   "cell_type": "code",
   "execution_count": 2,
   "metadata": {},
   "outputs": [],
   "source": [
    "book = PdfReader(r\"C:\\Users\\yotam\\Desktop\\books_to_table_llm\\books\\How_Not_to_Die.pdf\")\n",
    "#find headers:\n",
    "full_book = ''\n",
    "for i in range(9,438): #len(book.pages) #i cuted the starting pages and the notes in the end\n",
    "        page = book.pages[i].extract_text().replace('\\t',' ')#.replace('\\n',' ')\n",
    "\n",
    "        full_book = full_book + page + ' '\n",
    "\n",
    "path = r\"C:\\Users\\yotam\\Desktop\\books_to_table_llm\\books\\How_Not_to_Die.pdf\"\n",
    "headers = headers_scrape_How_Not_to_Die(path,jank='https://www.8freebooks.net',min_size=14.5)\n",
    "headers_txt = [header[0] for header in headers]\n",
    "headers_txt = headers_txt[3:320] #trash the part of the book that don't have content"
   ]
  },
  {
   "cell_type": "markdown",
   "metadata": {},
   "source": [
    "### chank the doc by the headers"
   ]
  },
  {
   "cell_type": "code",
   "execution_count": 3,
   "metadata": {},
   "outputs": [
    {
     "name": "stdout",
     "output_type": "stream",
     "text": [
      "Salmonella67\n",
      "Flaxseed163\n",
      "Disease175\n",
      "Citrus220\n",
      "Coffee291\n"
     ]
    }
   ],
   "source": [
    "chank_dict,chank_list = book_to_chank_dict_list(full_book=full_book,headers_txt=headers_txt)"
   ]
  },
  {
   "cell_type": "markdown",
   "metadata": {},
   "source": [
    "i need to make df with the answer of the llm with the data: node_1,node_2,edge,chunk_id,count"
   ]
  },
  {
   "cell_type": "markdown",
   "metadata": {},
   "source": [
    "### put the chank in a nice df"
   ]
  },
  {
   "cell_type": "markdown",
   "metadata": {},
   "source": [
    "#### one chank example:"
   ]
  },
  {
   "cell_type": "code",
   "execution_count": 18,
   "metadata": {},
   "outputs": [],
   "source": [
    "result = ask_haike(user_prompt=f\"context: ```{chank_list[21]}``` \\n\\n output: \",system_prompt=SYS_PROMPT,max_tokens=4000)"
   ]
  },
  {
   "cell_type": "code",
   "execution_count": 19,
   "metadata": {},
   "outputs": [
    {
     "name": "stdout",
     "output_type": "stream",
     "text": [
      "Here is the ontology of terms and their relations extracted from the given context:\n",
      "\n",
      "[\n",
      "   {\n",
      "       \"node_1\": \"Fiber\",\n",
      "       \"node_2\": \"Bowel health\",\n",
      "       \"edge\": \"Fiber has well-known effects on bowel health\"\n",
      "   },\n",
      "   {\n",
      "       \"node_1\": \"Fiber\",\n",
      "       \"node_2\": \"Cancer\",\n",
      "       \"edge\": \"High fiber intake appears to reduce the risk of cancers of the colon and breast\"\n",
      "   },\n",
      "   {\n",
      "       \"node_1\": \"Fiber\",\n",
      "       \"node_2\": \"Diabetes\",\n",
      "       \"edge\": \"High fiber intake appears to reduce the risk of diabetes\"\n",
      "   },\n",
      "   {\n",
      "       \"node_1\": \"Fiber\",\n",
      "       \"node_2\": \"Heart disease\",\n",
      "       \"edge\": \"High fiber intake appears to reduce the risk of heart disease\"\n",
      "   },\n",
      "   {\n",
      "       \"node_1\": \"Fiber\",\n",
      "       \"node_2\": \"Obesity\",\n",
      "       \"edge\": \"High fiber intake appears to reduce the risk of obesity\"\n",
      "   },\n",
      "   {\n",
      "       \"node_1\": \"Fiber\",\n",
      "       \"node_2\": \"Premature death\",\n",
      "       \"edge\": \"High fiber intake appears to reduce the risk of premature death in general\"\n",
      "   },\n",
      "   {\n",
      "       \"node_1\": \"Fiber\",\n",
      "       \"node_2\": \"Stroke\",\n",
      "       \"edge\": \"High fiber intake may also help ward off stroke\"\n",
      "   },\n",
      "   {\n",
      "       \"node_1\": \"Fiber\",\n",
      "       \"node_2\": \"Americans\",\n",
      "       \"edge\": \"Less than 3 percent of Americans meet the minimum daily recommendation for fiber\"\n",
      "   },\n",
      "   {\n",
      "       \"node_1\": \"Fiber\",\n",
      "       \"node_2\": \"Whole plant foods\",\n",
      "       \"edge\": \"Fiber is naturally concentrated in only one place: whole plant foods\"\n",
      "   },\n",
      "   {\n",
      "       \"node_1\": \"Fiber\",\n",
      "       \"node_2\": \"Processed foods\",\n",
      "       \"edge\": \"Processed foods have less fiber than whole plant foods\"\n",
      "   },\n",
      "   {\n",
      "       \"node_1\": \"Fiber\",\n",
      "       \"node_2\": \"Animal-derived foods\",\n",
      "       \"edge\": \"Animal-derived foods have no fiber at all\"\n",
      "   },\n",
      "   {\n",
      "       \"node_1\": \"Fiber\",\n",
      "       \"node_2\": \"Cholesterol\",\n",
      "       \"edge\": \"Fiber helps control your cholesterol levels\"\n",
      "   },\n",
      "   {\n",
      "       \"node_1\": \"Fiber\",\n",
      "       \"node_2\": \"Blood sugar levels\",\n",
      "       \"edge\": \"Fiber helps control your blood sugar levels\"\n",
      "   },\n",
      "   {\n",
      "       \"node_1\": \"Fiber\",\n",
      "       \"node_2\": \"Artery-clogging plaque\",\n",
      "       \"edge\": \"Fiber helps reduce the amount of artery-clogging plaque in your brain's blood vessels\"\n",
      "   },\n",
      "   {\n",
      "       \"node_1\": \"Fiber\",\n",
      "       \"node_2\": \"Blood pressure\",\n",
      "       \"edge\": \"High-fiber diets may also lower blood pressure\"\n",
      "   },\n",
      "   {\n",
      "       \"node_1\": \"Fiber\",\n",
      "       \"node_2\": \"Childhood\",\n",
      "       \"edge\": \"Low fiber intake early on was associated with stiffening of the arteries leading up to the brain in children\"\n",
      "   },\n",
      "   {\n",
      "       \"node_1\": \"Fiber\",\n",
      "       \"node_2\": \"Soluble fiber\",\n",
      "       \"edge\": \"Soluble fiber (fiber that dissolves in water, typically found in beans, oats, nuts, and berries) can minimize stroke risk\"\n",
      "   },\n",
      "   {\n",
      "       \"node_1\": \"Fiber\",\n",
      "       \"node_2\": \"Insoluble fiber\",\n",
      "       \"edge\": \"Insoluble fiber (fiber that does not dissolve in water, found primarily in whole grains, such as brown rice and whole wheat) can minimize stroke risk\"\n",
      "   }\n",
      "]\n"
     ]
    }
   ],
   "source": [
    "print(result.dict()['content'][0]['text'])"
   ]
  },
  {
   "cell_type": "code",
   "execution_count": 67,
   "metadata": {},
   "outputs": [
    {
     "name": "stdout",
     "output_type": "stream",
     "text": [
      "pass 10 chanks\n",
      "eror in the api\n",
      "ASTHMA\n",
      "pass 20 chanks\n",
      "pass 30 chanks\n",
      "pass 40 chanks\n",
      "pass 50 chanks\n",
      "pass 60 chanks\n",
      "eror in the JSON.LOADS\n",
      "Salmonella\n",
      "pass 70 chanks\n",
      "pass 80 chanks\n",
      "pass 90 chanks\n",
      "eror in the JSON.LOADS\n",
      "Isn’t Moderate Drinking Beneficial?\n",
      "pass 100 chanks\n",
      "pass 110 chanks\n",
      "eror in the JSON.LOADS\n",
      "Nitrosamines\n",
      "pass 120 chanks\n",
      "pass 130 chanks\n",
      "eror in the JSON.LOADS\n",
      "Coffee and Aspartame\n",
      "pass 140 chanks\n",
      "pass 150 chanks\n",
      "pass 160 chanks\n",
      "pass 170 chanks\n",
      "pass 180 chanks\n",
      "pass 190 chanks\n",
      "eror in the JSON.LOADS\n",
      "Black Currants and Bilberries\n",
      "pass 200 chanks\n",
      "eror in the JSON.LOADS\n",
      "Exotic Fruits\n",
      "eror in the JSON.LOADS\n",
      "Too Much of a Good Thing?\n",
      "pass 210 chanks\n",
      "pass 220 chanks\n",
      "eror in the JSON.LOADS\n",
      "Even More Vegetables!\n",
      "eror in the JSON.LOADS\n",
      "Getting Kids (and Parents) to Eat Their Veggies\n",
      "pass 230 chanks\n",
      "pass 240 chanks\n",
      "pass 250 chanks\n",
      "eror in the JSON.LOADS\n",
      "Is Liquid Smoke Safe?\n",
      "pass 260 chanks\n",
      "pass 270 chanks\n",
      "eror in the JSON.LOADS\n",
      "Let Me Help\n"
     ]
    }
   ],
   "source": [
    "full_df,chanks_not_added=chanks_to_df_for_graph(chank_dict,prompt=SYS_PROMPT,max_token_per_chank=4000,verbos=True,test = False)"
   ]
  },
  {
   "cell_type": "code",
   "execution_count": 69,
   "metadata": {},
   "outputs": [],
   "source": [
    "full_df.to_csv('How_Not_to_Die_df_graph.csv', index=False)"
   ]
  },
  {
   "cell_type": "code",
   "execution_count": 81,
   "metadata": {},
   "outputs": [
    {
     "data": {
      "text/plain": [
       "12"
      ]
     },
     "execution_count": 81,
     "metadata": {},
     "output_type": "execute_result"
    }
   ],
   "source": [
    "len(chanks_not_added)\n",
    "#12 chanks not added"
   ]
  },
  {
   "cell_type": "markdown",
   "metadata": {},
   "source": [
    "when their is \" in the text - the load_json not working, here a way to fix it:"
   ]
  },
  {
   "cell_type": "code",
   "execution_count": 106,
   "metadata": {},
   "outputs": [
    {
     "name": "stdout",
     "output_type": "stream",
     "text": [
      "[\n",
      "   {\n",
      "       \"node_1\": \"Salmonella\",\n",
      "       \"node_2\": \"food poisoning\",\n",
      "       \"edge\": \"Salmonella is the leading cause of food poisoning-related hospitalizations and deaths in the United States\"\n",
      "   },\n",
      "   {\n",
      "       \"node_1\": \"Salmonella\",\n",
      "       \"node_2\": \"eggs\",\n",
      "       \"edge\": \"Many people associate Salmonella with eggs, and for good reason as Salmonella can survive in eggs cooked in various ways like scrambled, over-easy, and sunny-side-up\"\n",
      "   },\n",
      "   {\n",
      "       \"node_1\": \"Salmonella\",\n",
      "       \"node_2\": \"cooking methods\",\n",
      "       \"edge\": \"The egg industry's own research found that Salmonella in eggs can survive scrambled, over-easy, and sunny-side-up cooking methods, with sunny-side-up being the riskiest\"\n",
      "   },\n",
      "   {\n",
      "       \"node_1\": \"Salmonella\",\n",
      "       \"node_2\": \"illness\",\n",
      "       \"edge\": \"Salmonella infection typically causes fever, diarrhea, and severe abdominal cramps within 12 to 72 hours, and the illness can last 4 to 7 days, requiring hospitalization for children and the elderly\"\n",
      "   },\n",
      "   {\n",
      "       \"node_1\": \"egg industry\",\n",
      "       \"node_2\": \"research\",\n",
      "       \"edge\": \"The egg industry itself funded research on Salmonella and the various ways to cook eggs\"\n",
      "   },\n",
      "   {\n",
      "       \"node_1\": \"egg industry\",\n",
      "       \"node_2\": \"safety claims\",\n",
      "       \"edge\": \"The egg industry claimed that completely cooked eggs are completely safe eggs\", despite their own research showing that Salmonella can survive in various cooking methods\"\n",
      "   },\n",
      "   {\n",
      "       \"node_1\": \"Salmonella\",\n",
      "       \"node_2\": \"egg-borne epidemic\",\n",
      "       \"edge\": \"According to the FDA, an estimated 142,000 Americans are sickened each year by Salmonella-tainted eggs, which is considered an egg-borne epidemic in the United States\"\n",
      "   }\n",
      "]\n"
     ]
    }
   ],
   "source": [
    "print(remove_quotes(txt[txt.find('['):txt.find(']')+1]))"
   ]
  },
  {
   "cell_type": "code",
   "execution_count": 3,
   "metadata": {},
   "outputs": [],
   "source": [
    "df = pd.read_csv(r'C:\\Users\\yotam\\Desktop\\how_not_to_project\\books_to_table_llm\\df_saved\\How_Not_to_Die_df_graph_v2.csv')"
   ]
  },
  {
   "cell_type": "code",
   "execution_count": 10,
   "metadata": {},
   "outputs": [
    {
     "name": "stdout",
     "output_type": "stream",
     "text": [
      "<class 'pandas.core.frame.DataFrame'>\n",
      "RangeIndex: 2972 entries, 0 to 2971\n",
      "Data columns (total 5 columns):\n",
      " #   Column      Non-Null Count  Dtype \n",
      "---  ------      --------------  ----- \n",
      " 0   node_1      2972 non-null   object\n",
      " 1   node_2      2972 non-null   object\n",
      " 2   edge        2972 non-null   object\n",
      " 3   Chunk Name  2972 non-null   object\n",
      " 4   count       2972 non-null   int64 \n",
      "dtypes: int64(1), object(4)\n",
      "memory usage: 116.2+ KB\n"
     ]
    }
   ],
   "source": [
    "df.info()"
   ]
  },
  {
   "cell_type": "markdown",
   "metadata": {},
   "source": [
    "### node example:"
   ]
  },
  {
   "cell_type": "code",
   "execution_count": 19,
   "metadata": {},
   "outputs": [
    {
     "data": {
      "text/plain": [
       "node_1                                         Secondhand smoke\n",
       "node_2                                              Lung cancer\n",
       "edge          Nonsmokers have a 20–30 percent higher risk of...\n",
       "Chunk Name                                          LUNG CANCER\n",
       "count                                                         4\n",
       "Name: 99, dtype: object"
      ]
     },
     "execution_count": 19,
     "metadata": {},
     "output_type": "execute_result"
    },
    {
     "ename": "",
     "evalue": "",
     "output_type": "error",
     "traceback": [
      "\u001b[1;31mThe Kernel crashed while executing code in the current cell or a previous cell. \n",
      "\u001b[1;31mPlease review the code in the cell(s) to identify a possible cause of the failure. \n",
      "\u001b[1;31mClick <a href='https://aka.ms/vscodeJupyterKernelCrash'>here</a> for more info. \n",
      "\u001b[1;31mView Jupyter <a href='command:jupyter.viewOutput'>log</a> for further details."
     ]
    }
   ],
   "source": [
    "df.iloc[99]"
   ]
  },
  {
   "cell_type": "code",
   "execution_count": 18,
   "metadata": {},
   "outputs": [
    {
     "data": {
      "text/plain": [
       "\"Nonsmokers have a 20–30 percent higher risk of developing lung cancer if they're regularly exposed to cigarette smoke\""
      ]
     },
     "execution_count": 18,
     "metadata": {},
     "output_type": "execute_result"
    }
   ],
   "source": [
    "\n",
    "df.loc[99,'edge']\n"
   ]
  }
 ],
 "metadata": {
  "kernelspec": {
   "display_name": "base",
   "language": "python",
   "name": "python3"
  },
  "language_info": {
   "codemirror_mode": {
    "name": "ipython",
    "version": 3
   },
   "file_extension": ".py",
   "mimetype": "text/x-python",
   "name": "python",
   "nbconvert_exporter": "python",
   "pygments_lexer": "ipython3",
   "version": "3.11.5"
  }
 },
 "nbformat": 4,
 "nbformat_minor": 2
}
