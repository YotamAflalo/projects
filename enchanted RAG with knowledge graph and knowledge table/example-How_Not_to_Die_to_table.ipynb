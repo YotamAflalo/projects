{
 "cells": [
  {
   "cell_type": "code",
   "execution_count": 1,
   "metadata": {},
   "outputs": [],
   "source": [
    "import warnings\n",
    "warnings.filterwarnings('ignore')\n",
    "#from openai import OpenAI\n",
    "from tqdm.auto import tqdm\n",
    "from PyPDF2 import PdfReader\n",
    "import ast\n",
    "import os\n",
    "import pandas as pd\n",
    "import numpy as np\n",
    "import json\n",
    "import time\n",
    "import anthropic\n",
    "\n",
    "from book_to_table_func import ask_haike,headers_scrape_How_Not_to_Die,tiktoken_len,full_book_constraction,chanks_to_df,book_to_chank_dict_list,new_book_to_chank_dict_list\n",
    "clode_key ='ENTER YOUR KEY HERE OR IN THE OS'\n",
    "client = anthropic.Anthropic(\n",
    "    # defaults to os.environ.get(\"ANTHROPIC_API_KEY\")\n",
    "    api_key=clode_key,\n",
    ")"
   ]
  },
  {
   "cell_type": "code",
   "execution_count": 3,
   "metadata": {},
   "outputs": [],
   "source": [
    "path = r\"YOUR FILE PATH.pdf\"\n",
    "headers = headers_scrape_How_Not_to_Die(path,jank='https://www.8freebooks.net',min_size=14.5)\n",
    "headers_txt = [header[0] for header in headers]\n"
   ]
  },
  {
   "cell_type": "code",
   "execution_count": 4,
   "metadata": {},
   "outputs": [
    {
     "name": "stdout",
     "output_type": "stream",
     "text": [
      "320\n"
     ]
    }
   ],
   "source": [
    "for i in range(len(headers_txt)):\n",
    "    if headers_txt[i]== 'Notes':\n",
    "        print(i)\n",
    "#זה אומר שכל הכותרות אחרי 320 הן זבל"
   ]
  },
  {
   "cell_type": "code",
   "execution_count": 6,
   "metadata": {},
   "outputs": [
    {
     "name": "stdout",
     "output_type": "stream",
     "text": [
      "222361\n"
     ]
    }
   ],
   "source": [
    "headers_txt = headers_txt[3:320]\n",
    "full_book = full_book_constraction(path=r\"YOUR FILE PATH.pdf\",starting_page=9,ending_page=438)\n",
    "print(tiktoken_len(full_book))"
   ]
  },
  {
   "cell_type": "code",
   "execution_count": 7,
   "metadata": {},
   "outputs": [
    {
     "name": "stdout",
     "output_type": "stream",
     "text": [
      "Salmonella64\n",
      "Flaxseed160\n",
      "Disease172\n",
      "Citrus217\n",
      "Coffee288\n"
     ]
    }
   ],
   "source": [
    "chank_dict,chank_list = book_to_chank_dict_list(full_book=full_book,headers_txt=headers_txt)"
   ]
  },
  {
   "cell_type": "code",
   "execution_count": 8,
   "metadata": {},
   "outputs": [
    {
     "data": {
      "text/plain": [
       "277"
      ]
     },
     "execution_count": 8,
     "metadata": {},
     "output_type": "execute_result"
    }
   ],
   "source": [
    "len(chank_dict)"
   ]
  },
  {
   "cell_type": "code",
   "execution_count": 11,
   "metadata": {},
   "outputs": [
    {
     "name": "stdout",
     "output_type": "stream",
     "text": [
      "the chank Our Top Killer have 44549 charecters and 9996 tokens in chatgpt\n",
      "the chank Sodium have 15030 charecters and 3469 tokens in chatgpt\n",
      "the chank Disease have 11054 charecters and 2498 tokens in chatgpt\n",
      "the chank What About Gluten? have 10200 charecters and 2303 tokens in chatgpt\n",
      "the chank Supplements have 13352 charecters and 3244 tokens in chatgpt\n",
      "num of long chank  5\n"
     ]
    }
   ],
   "source": [
    "long_chanks_dict = 0\n",
    "long_chanks_keys = []\n",
    "for k,v in chank_dict.items():\n",
    "    if len(v)>9000:\n",
    "        long_chanks_dict+=1\n",
    "        long_chanks_keys.append(k)\n",
    "        print(f'the chank {k} have {len(v)} charecters and {tiktoken_len(v)} tokens in chatgpt')\n",
    "\n",
    "print('num of long chank ', long_chanks_dict)"
   ]
  },
  {
   "cell_type": "code",
   "execution_count": 4,
   "metadata": {},
   "outputs": [],
   "source": [
    "prompt2 = '''\n",
    "\n",
    "Your goal is to extract structured information from the user's input that matches the form below. The text you will receive comes from self-development books. The goal of the project is to extract all the tips described in the book and label them.\n",
    "When extracting information please make sure that it matches the type of information exactly. Do not add any attributes that do not appear in the schma below.\n",
    "''\n",
    "{\n",
    "[{product type: //food, suplement, additives ext'\n",
    "Product name: //name of the product, \n",
    "category: //the category of the prodact, Whole grains, green leaves, drinks, additives, dairy products, animal products, legumes, beans, vitamins, etc.\n",
    "Recommendation: //does the book recommend consuming this product or to avoid him? Answer '1' for recommended and '0' for not recommended, '2' if it is more complicated.,\n",
    "Quantity: // how much is recommended for consumption? If specified, else write \"quantity not specified\".,\n",
    "Affect: //what is the benefit/harm of consuming the product?,\n",
    "Affected organs: // The organs that are affected by the consumption of the food.,\n",
    "Affected diseases: //The disease that affected by the consumption. Rather the food helps to cure, delays, prevents or cause the diseases appearance?,\n",
    "The mechanism: //Describe how consuming the food benefits\\harm the body (on the chemical level).\n",
    "}]\n",
    "''\n",
    "Insert all the recommendations you find in the text to consume or avoid consuming certain foods/supplements, or to exercise.\n",
    "do not use \" in the mechanism describe.\n",
    "Please output the extracted information in JSON format. Do not output anything except for the extracted information. Do not add any clarifying information. Do not add fields that are not in the schema. If the text contains information that are not in the schema, please ignore them. All output mast be in JSON format and follow the schema.\n",
    "Warp the JSON in <json> tags.\n",
    "Between the delimiters '$$$' there is an example of how the answer should look. Do not use the example as part of your answer.\n",
    "\n",
    "$$$\n",
    "Example:\n",
    "Input: To test the power of dietary interventions to prevent rabies, scientists often study chronic sleepers. Researchers rounded up a group of long-time sleepers and asked them to consume goat's milk a day.\n",
    "Goat milk consumers suffered 41 percent less rabies in their bloodstream over ten days. It is only thanks to this that goat milk causes bad breath, and keeps dogs away from you.\n",
    "Output: <json> {'food': { 'Product name': 'Goat milk', 'category': 'Dairy', 'Recommendation': '1', 'Quantity': 'not specified', 'Affect': 'Reduces risk of rabies', 'Affected organs': [], 'Affected diseases': ['rabies'], 'The mechanism': 'Goat milk causes bad breath, and keeps dogs away from you.'} <\\json>\n",
    "$$$\n",
    "DO NOT recommend Goat milk.\n",
    "\n",
    "The user text: \n",
    "\n",
    "'''\n",
    " "
   ]
  },
  {
   "cell_type": "code",
   "execution_count": 79,
   "metadata": {},
   "outputs": [
    {
     "name": "stdout",
     "output_type": "stream",
     "text": [
      "[{\n",
      "    \"product type\": \"food\",\n",
      "    \"Product name\": \"sodium\",\n",
      "    \"Recommendation\": \"2\",\n",
      "    \"Quantity\": \"less than 1,500 mg daily\",\n",
      "    \"Affect\": \"Excess sodium can cause water retention and high blood pressure, which can lead to heart attacks and strokes. Reducing sodium intake can lower blood pressure and reduce the risk of these health issues.\",\n",
      "    \"Affected organs\": [\"blood vessels\", \"heart\"],\n",
      "    \"Affected diseases\": [\"high blood pressure\", \"heart attacks\", \"strokes\"],\n",
      "    \"The mechanism\": \"Sodium causes water retention, which increases blood pressure. It also impairs artery function and increases oxidative stress, leading to stiffening of the arteries. Reducing sodium intake can reverse these effects and lower blood pressure.\"\n",
      "}]\n"
     ]
    }
   ],
   "source": [
    "# result example:"
   ]
  },
  {
   "cell_type": "code",
   "execution_count": 157,
   "metadata": {},
   "outputs": [
    {
     "name": "stdout",
     "output_type": "stream",
     "text": [
      "pass 10 chanks\n",
      "pass 20 chanks\n",
      "pass 30 chanks\n",
      "pass 40 chanks\n",
      "pass 50 chanks\n",
      "pass 60 chanks\n",
      "pass 70 chanks\n",
      "pass 80 chanks\n",
      "pass 90 chanks\n",
      "pass 100 chanks\n",
      "pass 110 chanks\n",
      "pass 120 chanks\n",
      "pass 130 chanks\n",
      "pass 140 chanks\n",
      "pass 150 chanks\n",
      "pass 160 chanks\n",
      "pass 170 chanks\n",
      "pass 180 chanks\n",
      "pass 190 chanks\n",
      "pass 200 chanks\n",
      "pass 210 chanks\n",
      "pass 220 chanks\n",
      "pass 230 chanks\n",
      "pass 240 chanks\n",
      "pass 250 chanks\n",
      "pass 260 chanks\n",
      "pass 270 chanks\n",
      "eror in the JSON.LOADS\n",
      "Acknowledgments\n"
     ]
    }
   ],
   "source": [
    "df_new_prompt, chanks_not_added_new_prompt =chanks_to_df(chank_dict=chank_dict,prompt=prompt2,max_token_per_chank=4000,verbos=True)"
   ]
  },
  {
   "cell_type": "code",
   "execution_count": 49,
   "metadata": {},
   "outputs": [],
   "source": [
    "df.to_csv('How_Not_to_Die_df.csv', index=False)"
   ]
  },
  {
   "cell_type": "markdown",
   "metadata": {},
   "source": [
    "## legacy: fixing unaddable chanks:"
   ]
  },
  {
   "cell_type": "markdown",
   "metadata": {},
   "source": [
    "Problems:\n",
    "1. Mark hyphens in the text\n",
    "2. Toucans limit - cut the sentence in half\n",
    "3. If it doesn't find any information - it returns a message that it didn't find any information, instead of returning an empty Jason\n",
    "\n",
    "Solutions:\n",
    "1. Updating the prompt\n",
    "2. Increasing the toucans limit\n",
    "3. I have explicitly defined what to return if no information is found"
   ]
  },
  {
   "cell_type": "code",
   "execution_count": 72,
   "metadata": {},
   "outputs": [
    {
     "name": "stdout",
     "output_type": "stream",
     "text": [
      "634\n",
      "1276\n",
      "1251\n",
      "1247\n",
      "1209\n",
      "1235\n",
      "66\n"
     ]
    }
   ],
   "source": [
    "for i in range(len(chanks_not_added)):\n",
    "    txt = chanks_not_added[i][1]\n",
    "    print(tiktoken_len(txt[txt.find('<json>')+7:txt.find('</json>')-1]))"
   ]
  },
  {
   "cell_type": "code",
   "execution_count": 74,
   "metadata": {},
   "outputs": [
    {
     "name": "stdout",
     "output_type": "stream",
     "text": [
      "not find any information in the given text that matches the schema for extracting recommendations about foods, supplements, or exercises. The text appears to be an acknowledgments section of a book, and does not contain any structured information about product recommendations, quantities, effects, or mechanisms. Therefore, I cannot provide any JSON output based on this tex\n"
     ]
    }
   ],
   "source": [
    "txt = chanks_not_added[6][1]\n",
    "print(txt[txt.find('<json>')+7:txt.find('</json>')-1])"
   ]
  },
  {
   "cell_type": "code",
   "execution_count": 77,
   "metadata": {},
   "outputs": [
    {
     "data": {
      "text/plain": [
       "'Acknowledgments\\nThere are many thanks I’d like to express: to my cowriters and editors, Gene,\\nJennifer, Miranda, Miyun, Nick, and Whitney, who helped turn my bite-sized\\nchunks of science into a coherent, four-course narrative meal; to my fact-\\ncheckers, Alissa, Allison, Frances, Helena, Martin, Michelle, Seth, Stephanie,\\nand Valerie; and to all the \\nNutritionFacts.org\\n volunteers who helped with the\\nbook: Brad, Cassie, Emily, Giang, Jerold, Kari, Kimberley, Laura, Lauren, Luis,\\nTracy, and especially Jennifer—no physician has ever known a better PA or a\\nbetter friend. Also, much appreciation to Brenda and Vesanto for their keen\\ninsights and vast knowledge.\\nThis book would not have been possible without my wonderful staff—Joe,\\nKatie, Liz, and Tommasina—and everyone at HSUS who supported me on the\\nwork front, and Andrea, my partner in life, and our beloved family, who\\nsupported me on the home front. \\nNutritionFacts.org\\n would not have even been\\npossible without the Jesse & Julie Rasch Foundation, the design and coding\\ngenius of Christi Richards, and the thousands who have donated to enable my\\nwork to reach millions.\\nThough it was my grandmother who made me the doctor I am today, it was\\nmy mother who made me the person I am today. I love you, Mom!\\nhttps://www.8freebooks.net\\n  \\nAPPENDIX\\n'"
      ]
     },
     "execution_count": 77,
     "metadata": {},
     "output_type": "execute_result"
    }
   ],
   "source": [
    "fail_chanks_dict = {}\n",
    "# לולאה לעבור על כל טאפל ולהוסיף את המפתח והערך למילון\n",
    "for i in range(len(chanks_not_added)):\n",
    "    fail_chanks_dict[chanks_not_added[i][0]] = chank_dict[chanks_not_added[i][0]]\n",
    "fail_chanks_dict.pop('Acknowledgments') #this chank are luck of relevant data"
   ]
  },
  {
   "cell_type": "code",
   "execution_count": 83,
   "metadata": {},
   "outputs": [],
   "source": [
    "df_2, chanks_not_added =chanks_to_df(fail_chanks_dict,max_token_per_chank=4000,verbos=True)"
   ]
  },
  {
   "cell_type": "code",
   "execution_count": 88,
   "metadata": {},
   "outputs": [],
   "source": [
    "full_df = pd.concat([df, df_2], ignore_index=True)"
   ]
  },
  {
   "cell_type": "code",
   "execution_count": 90,
   "metadata": {},
   "outputs": [],
   "source": [
    "full_df.to_csv('How_Not_to_Die_full_df.csv', index=False)"
   ]
  },
  {
   "cell_type": "markdown",
   "metadata": {},
   "source": [
    "### EDA and cleaning the data"
   ]
  },
  {
   "cell_type": "code",
   "execution_count": 17,
   "metadata": {},
   "outputs": [],
   "source": [
    "df = pd.read_csv(r'df_saved\\new_prompt_df.csv')"
   ]
  },
  {
   "cell_type": "code",
   "execution_count": 18,
   "metadata": {},
   "outputs": [
    {
     "data": {
      "text/plain": [
       "(566, 995)"
      ]
     },
     "execution_count": 18,
     "metadata": {},
     "output_type": "execute_result"
    }
   ],
   "source": [
    "len(df['Product name'].unique()),len(df['Product name'])"
   ]
  },
  {
   "cell_type": "code",
   "execution_count": 19,
   "metadata": {},
   "outputs": [],
   "source": [
    "df.drop(columns=['Unnamed: 0','food'],inplace=True)\n",
    "df.drop_duplicates(subset=['Product name','Affect','The mechanism','Affected organs','Affected diseases'],inplace=True)"
   ]
  },
  {
   "cell_type": "code",
   "execution_count": 39,
   "metadata": {},
   "outputs": [
    {
     "data": {
      "text/plain": [
       "9"
      ]
     },
     "execution_count": 39,
     "metadata": {},
     "output_type": "execute_result"
    }
   ],
   "source": [
    "len(df[df['Product name']=='broccoli'])"
   ]
  },
  {
   "cell_type": "code",
   "execution_count": 45,
   "metadata": {},
   "outputs": [
    {
     "data": {
      "text/plain": [
       "<Axes: ylabel='Frequency'>"
      ]
     },
     "execution_count": 45,
     "metadata": {},
     "output_type": "execute_result"
    },
    {
     "data": {
      "image/png": "[encoded data removed]",
      "text/plain": [
       "<Figure size 640x480 with 1 Axes>"
      ]
     },
     "metadata": {},
     "output_type": "display_data"
    }
   ],
   "source": [
    "df.groupby(['Product name'])['Product name'].count().sort_values(ascending=False).plot.hist(bins = 30)"
   ]
  },
  {
   "cell_type": "code",
   "execution_count": 50,
   "metadata": {},
   "outputs": [
    {
     "data": {
      "text/plain": [
       "Product name\n",
       "berries                  10\n",
       "chicken                  11\n",
       "coffee                   16\n",
       "fruits and vegetables    19\n",
       "meat                     19\n",
       "plant-based diet         23\n",
       "turmeric                 12\n",
       "vegetables               10\n",
       "whole grains             11\n",
       "Name: Product name, dtype: int64"
      ]
     },
     "execution_count": 50,
     "metadata": {},
     "output_type": "execute_result"
    }
   ],
   "source": [
    "df.groupby(['Product name'])['Product name'].count()[df.groupby(['Product name'])['Product name'].count()>=10]"
   ]
  },
  {
   "cell_type": "code",
   "execution_count": 58,
   "metadata": {},
   "outputs": [],
   "source": [
    "df['Product name'] = np.where(df['Product name'].isna(),df['product type'],df['Product name'])"
   ]
  },
  {
   "cell_type": "code",
   "execution_count": 62,
   "metadata": {},
   "outputs": [],
   "source": [
    "df = df[~df['Affect'].isna()]"
   ]
  },
  {
   "cell_type": "code",
   "execution_count": 54,
   "metadata": {},
   "outputs": [
    {
     "name": "stdout",
     "output_type": "stream",
     "text": [
      "the broccoli boosted the activity of the detoxifying enzymes in the livers, which helped clear carcinogens before they even made it to the smokers\n",
      "the broccoli boosted the activity of the detoxifying enzymes in the livers, which helped clear carcinogens before they even made it to the smokers' cells. Certain compounds in broccoli may have the potential to suppress the metastatic spread of lung cancer.\n",
      "broccoli contains antioxidants that can protect against oxidative damage\n",
      "the compounds in broccoli activate the Ah receptors on intraepithelial lymphocytes, which condition and repair the intestinal lining and serve as the first line of gut defense against pathogens. Broccoli can also block the toxic effects of pollutants like dioxins that act through the Ah receptor system.\n",
      "the broccoli boosts the activity of detoxifying enzymes in the liver, which helps clear carcinogens before they can cause damage\n",
      "the cancer-fighting nutrients in broccoli do find their way to the breast tissue and the sulforaphane in broccoli has been shown to suppress the ability of breast cancer stem cells to form tumors\n",
      "the sulforaphane precursor mixes with the myrosinase enzyme and sulforaphane is created when raw broccoli is chopped or chewed. Cooking inactivates the myrosinase enzyme, but the precursor and final product are heat resistant. Chopping and waiting 40 minutes before cooking allows the sulforaphane to form.\n",
      "Roasting broccoli brings out a nutty, caramelized flavor\n",
      "the added sweetness merely masks the bitterness by fooling your taste buds\n"
     ]
    }
   ],
   "source": [
    "for i in range(len(df[df['Product name']=='broccoli'])):\n",
    "    print(df[df['Product name']=='broccoli']['The mechanism'].iloc[i])\n",
    "\n"
   ]
  },
  {
   "cell_type": "code",
   "execution_count": 23,
   "metadata": {},
   "outputs": [],
   "source": [
    "#in this rows i clean some ill writen product type\n",
    "df['product type'] = np.where(df['product type']=='suplement','supplement',df['product type'])\n",
    "df['product type'] = np.where(df['product type']=='spice mix','spice',df['product type'])\n",
    "df['product type'] = np.where(df['product type']=='medical procedure','medical test',df['product type'])\n",
    "df['product type'] = np.where(df['product type']=='water','beverage',df['product type'])\n",
    "df['product type'] = np.where(df['product type']=='lifestyle','behavior',df['product type'])\n",
    "df['product type'] = df['product type'].fillna('other')\n",
    "\n"
   ]
  },
  {
   "cell_type": "code",
   "execution_count": 25,
   "metadata": {},
   "outputs": [
    {
     "data": {
      "text/plain": [
       "array(['food', 'supplement', 'drug', 'sleep', 'exercise', 'behavior',\n",
       "       'surgery', 'diet', 'vaccine', 'food additive', 'spice',\n",
       "       'medical test', 'other', 'herb', 'beverage', 'activity'],\n",
       "      dtype=object)"
      ]
     },
     "execution_count": 25,
     "metadata": {},
     "output_type": "execute_result"
    }
   ],
   "source": [
    "df['product type'].unique()#after cleaning\n"
   ]
  },
  {
   "cell_type": "code",
   "execution_count": 27,
   "metadata": {},
   "outputs": [
    {
     "name": "stdout",
     "output_type": "stream",
     "text": [
      "there is 784 tips in food category \n",
      "there is 32 tips in supplement category \n",
      "there is 4 tips in drug category \n",
      "there is 1 tips in sleep category \n",
      "there is 20 tips in exercise category \n",
      "there is 3 tips in behavior category \n",
      "there is 1 tips in surgery category \n",
      "there is 4 tips in diet category \n",
      "there is 3 tips in vaccine category \n",
      "there is 1 tips in food additive category \n",
      "there is 27 tips in spice category \n",
      "there is 3 tips in medical test category \n",
      "there is 3 tips in other category \n",
      "there is 15 tips in herb category \n",
      "there is 20 tips in beverage category \n",
      "there is 5 tips in activity category \n",
      "926 926\n"
     ]
    }
   ],
   "source": [
    "types = list(df['product type'].unique())\n",
    "num = len(df)\n",
    "sumtype = 0\n",
    "for i in range(len(types)):\n",
    "    n = len(df[df['product type']==types[i]])\n",
    "    print(f'there is {n} tips in {types[i]} category ')\n",
    "    sumtype+=n\n",
    "\n",
    "print(num,sumtype )\n"
   ]
  },
  {
   "cell_type": "code",
   "execution_count": 63,
   "metadata": {},
   "outputs": [
    {
     "name": "stdout",
     "output_type": "stream",
     "text": [
      "<class 'pandas.core.frame.DataFrame'>\n",
      "Index: 925 entries, 0 to 994\n",
      "Data columns (total 9 columns):\n",
      " #   Column             Non-Null Count  Dtype  \n",
      "---  ------             --------------  -----  \n",
      " 0   product type       925 non-null    object \n",
      " 1   Product name       925 non-null    object \n",
      " 2   Recommendation     925 non-null    float64\n",
      " 3   Quantity           925 non-null    object \n",
      " 4   Affect             925 non-null    object \n",
      " 5   Affected organs    925 non-null    object \n",
      " 6   Affected diseases  925 non-null    object \n",
      " 7   The mechanism      758 non-null    object \n",
      " 8   Chunk Name         925 non-null    object \n",
      "dtypes: float64(1), object(8)\n",
      "memory usage: 72.3+ KB\n"
     ]
    }
   ],
   "source": [
    "df.info()"
   ]
  },
  {
   "cell_type": "code",
   "execution_count": 64,
   "metadata": {},
   "outputs": [],
   "source": [
    "df.to_csv(r'df_saved\\new_prompt_df.csv')"
   ]
  },
  {
   "cell_type": "markdown",
   "metadata": {},
   "source": [
    "## adding more books"
   ]
  },
  {
   "cell_type": "code",
   "execution_count": 2,
   "metadata": {},
   "outputs": [],
   "source": [
    "path = r'C:\\Users\\yotam\\Desktop\\how_not_to_project\\books_to_table_llm\\books\\How_Not_to_Age.pdf'\n",
    "full_book = full_book_constraction(path=path,starting_page=5,ending_page=729)\n",
    "#new_book_to_chank_dict_list"
   ]
  },
  {
   "cell_type": "code",
   "execution_count": 3,
   "metadata": {},
   "outputs": [],
   "source": [
    "chank_dict,chank_list = new_book_to_chank_dict_list(full_book=full_book,book_name='How_Not_to_Age')"
   ]
  },
  {
   "cell_type": "code",
   "execution_count": null,
   "metadata": {},
   "outputs": [],
   "source": [
    "df_new, chanks_not_added_new =chanks_to_df(chank_dict=chank_dict,sys_prompt=prompt2,max_token_per_chank=4000,verbos=True)"
   ]
  },
  {
   "cell_type": "code",
   "execution_count": null,
   "metadata": {},
   "outputs": [],
   "source": [
    "df = pd.concat([df,df_new])"
   ]
  }
 ],
 "metadata": {
  "kernelspec": {
   "display_name": "base",
   "language": "python",
   "name": "python3"
  },
  "language_info": {
   "codemirror_mode": {
    "name": "ipython",
    "version": 3
   },
   "file_extension": ".py",
   "mimetype": "text/x-python",
   "name": "python",
   "nbconvert_exporter": "python",
   "pygments_lexer": "ipython3",
   "version": "3.11.5"
  }
 },
 "nbformat": 4,
 "nbformat_minor": 2
}
