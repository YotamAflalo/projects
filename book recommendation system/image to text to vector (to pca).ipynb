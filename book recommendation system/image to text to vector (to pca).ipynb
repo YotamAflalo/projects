{
 "cells": [
  {
   "cell_type": "code",
   "execution_count": 1,
   "id": "a1ce3728",
   "metadata": {},
   "outputs": [],
   "source": [
    "import requests\n",
    "from PIL import Image\n",
    "from transformers import BlipProcessor, BlipForConditionalGeneration\n",
    "import numpy as np\n",
    "import pandas as pd\n",
    "from collections import defaultdict\n",
    "processor = BlipProcessor.from_pretrained(\"Salesforce/blip-image-captioning-large\")\n",
    "model = BlipForConditionalGeneration.from_pretrained(\"Salesforce/blip-image-captioning-large\")"
   ]
  },
  {
   "cell_type": "markdown",
   "id": "9f3799bd",
   "metadata": {},
   "source": [
    "conditional image captioning:\n",
    "\n",
    "text = \"a photography of\"\n",
    "\n",
    "inputs = processor(raw_image, text, return_tensors=\"pt\")\n",
    "\n",
    "unconditional image captioning:\n",
    "\n",
    "inputs = processor(raw_image, return_tensors=\"pt\")\n",
    "\n",
    "out = model.generate(**inputs)\n",
    "\n",
    "print(processor.decode(out[0], skip_special_tokens=True))"
   ]
  },
  {
   "cell_type": "code",
   "execution_count": 8,
   "id": "c4c476d2",
   "metadata": {},
   "outputs": [
    {
     "data": {
      "text/plain": [
       "'http://images.amazon.com/images/P/0374157065.01.LZZZZZZZ.jpg'"
      ]
     },
     "execution_count": 8,
     "metadata": {},
     "output_type": "execute_result"
    }
   ],
   "source": [
    "df = pd.read_csv(r'C:\\Users\\yotam\\Desktop\\naya\\df_clean_after_pca')\n",
    "df = df[df['rating']!=0]\n",
    "df_isbn = df['isbn']\n",
    "num_dict = {}\n",
    "for i,j in enumerate(df_isbn.unique()):\n",
    "    num_dict[j]=i\n",
    "df['isbn_num'] = df['isbn'].apply(lambda txt: num_dict[txt])\n",
    "df = df.reset_index(drop = True)\n",
    "df_category = pd.DataFrame(df['img_l'].unique())\n",
    "df_category = df_category.rename(columns={0:\"img_l\"})\n",
    "df_category.iloc[1]['img_l']\n",
    "df_category['cover_page'] = '9' #Default value, so that we can identify cases in which the model did not work (due to a problem loading the image)"
   ]
  },
  {
   "cell_type": "code",
   "execution_count": 16,
   "id": "2d0cb86a",
   "metadata": {},
   "outputs": [
    {
     "name": "stderr",
     "output_type": "stream",
     "text": [
      "C:\\Users\\yotam\\AppData\\Roaming\\Python\\Python39\\site-packages\\transformers\\generation\\utils.py:1353: UserWarning: Using `max_length`'s default (20) to control the generation length. This behaviour is deprecated and will be removed from the config in v5 of Transformers -- we recommend using `max_new_tokens` to control the maximum length of the generation.\n",
      "  warnings.warn(\n"
     ]
    },
    {
     "name": "stdout",
     "output_type": "stream",
     "text": [
      "a close up of a book cover with two women\n"
     ]
    }
   ],
   "source": [
    "#example:\n",
    "inputs = processor(raw_image, return_tensors=\"pt\")\n",
    "\n",
    "out = model.generate(**inputs)\n",
    "print(processor.decode(out[0], skip_special_tokens=True))"
   ]
  },
  {
   "cell_type": "code",
   "execution_count": 20,
   "id": "44bd486f",
   "metadata": {},
   "outputs": [],
   "source": [
    "df_category.loc[0,'cover_page']=processor.decode(out[0], skip_special_tokens=True)\n",
    "#df_category = pd.read_csv(r'cover_page.csv')"
   ]
  },
  {
   "cell_type": "code",
   "execution_count": 4,
   "id": "ee69d0a3",
   "metadata": {},
   "outputs": [
    {
     "name": "stderr",
     "output_type": "stream",
     "text": [
      "C:\\Users\\yotam\\AppData\\Roaming\\Python\\Python39\\site-packages\\transformers\\generation\\utils.py:1353: UserWarning: Using `max_length`'s default (20) to control the generation length. This behaviour is deprecated and will be removed from the config in v5 of Transformers -- we recommend using `max_new_tokens` to control the maximum length of the generation.\n",
      "  warnings.warn(\n"
     ]
    },
    {
     "name": "stdout",
     "output_type": "stream",
     "text": [
      "reach 25600\n",
      "reach 25800\n",
      "reach 26000\n",
      "reach 26200\n",
      "reach 26400\n",
      "reach 26600\n",
      "reach 26800\n",
      "reach 27000\n",
      "reach 27200\n",
      "reach 27400\n",
      "reach 27600\n",
      "reach 27800\n",
      "reach 28000\n",
      "reach 28200\n",
      "reach 28400\n",
      "reach 28600\n",
      "reach 28800\n",
      "reach 29000\n",
      "Error fetching the image from the URL: 404 Client Error: Not Found for url: http://images.amazon.com/images/P/0553566563.01.LZZZZZZZ.jpg\n",
      "reach 29200\n",
      "reach 29400\n",
      "reach 29600\n",
      "reach 29800\n",
      "reach 30000\n",
      "reach 30200\n",
      "reach 30600\n",
      "reach 30800\n"
     ]
    }
   ],
   "source": [
    "headers = {\n",
    "        'User-Agent': 'Mozilla/5.0 (Windows NT 10.0; Win64; x64) AppleWebKit/537.36 (KHTML, like Gecko) Chrome/58.0.3029.110 Safari/537.3'\n",
    "    }\n",
    "for i in range(len(df_category)): \n",
    "    img_url = df_category.iloc[i]['img_l']\n",
    "\n",
    "    try:\n",
    "        response = requests.get(img_url, headers=headers, stream=True)\n",
    "\n",
    "        response.raise_for_status()  # Check if the request was successful\n",
    "\n",
    "        # Open the image from the response content (bytes) and convert to RGB mode\n",
    "        raw_image = Image.open(response.raw).convert('RGB')\n",
    "\n",
    "        # You can perform further processing with the `raw_image` object here\n",
    "\n",
    "    except requests.exceptions.RequestException as e:\n",
    "        print(f\"Error fetching the image from the URL: {e}\")\n",
    "        continue\n",
    "\n",
    "    except Image.UnidentifiedImageError:\n",
    "        print(\"Unable to identify the image file. Please check the URL or image format.\")\n",
    "        continue\n",
    "    try:\n",
    "        inputs = processor(raw_image, return_tensors=\"pt\")\n",
    "        out = model.generate(**inputs)\n",
    "    except:\n",
    "        continue\n",
    "    df_category.loc[i,'cover_page']=processor.decode(out[0], skip_special_tokens=True)\n",
    "    if i%200==0:\n",
    "        print(\"reach\",i)\n",
    "        df_category.to_csv('cover_page.csv')"
   ]
  },
  {
   "cell_type": "code",
   "execution_count": 13,
   "id": "3be76bea",
   "metadata": {},
   "outputs": [
    {
     "name": "stdout",
     "output_type": "stream",
     "text": [
      "0 a close up of a book cover with two women\n",
      "1 the story of the great influence of the pandemic in the world of war and the search\n",
      "2 9\n",
      "3 a poster for the movie night's below station street\n",
      "4 a poster for a chicken soup for the woman's soul\n",
      "5 a book cover of the testament\n",
      "6 beloved by toni morrison\n",
      "7 a close up of a newspaper with a bunch of headlines on it\n",
      "8 a close up of a plate of food with a fork and knife\n",
      "9 a cartoon book cover of tell me this isn't happening\n",
      "10 a close up of a poster with a painting of a clock\n",
      "11 airframe by michael crichton\n",
      "12 a book cover of time line by michael crichton\n",
      "13 a book cover of winter solstice\n",
      "14 death in the clouds by agatha gitta\n",
      "15 a book cover of the last of the breed\n",
      "16 the cover of the book asmov prelude to foundation\n",
      "17 out of the silent planet by c s lewis\n",
      "18 a book cover of piercing the darkness\n",
      "19 a book cover of the prophet\n",
      "20 prague a novel by arthur phillips\n",
      "21 chocolate jesus by stephen jarami\n",
      "22 a close up of a book cover with a person walking down a hallway\n",
      "23 a close up of a book cover with a silhouette of a person holding a bird\n",
      "24 a book cover of seabiscuit america's best race\n",
      "25 9\n",
      "26 a book cover of miss zuka's raven's dance\n",
      "27 down town by anne rivers\n",
      "28 icebound by dean koonttz\n",
      "29 a close up of a person walking on a beach with a suitcase\n",
      "30 a book cover of from the corner of this eye\n",
      "31 a book cover of a tale of the boy\n",
      "32 a book cover of purity in death\n",
      "33 a book cover of this year it will be different\n",
      "34 left behind a novel of the sun and the last day\n",
      "35 the street lawyer by john grishaam\n",
      "36 9\n",
      "37 9\n",
      "38 a soldier of the great war by mark heppin\n",
      "39 9\n",
      "40 a book cover of shabanu daughter of the wind\n",
      "41 a woman in a pink dress standing in an archway\n",
      "42 9\n",
      "43 a book cover of breathing lessons\n",
      "44 978 cover of the joy luck club by amyn\n",
      "45 arafed image of a man in a canoe with a bow and arrow\n",
      "46 a close up of a painting of a person on a tree\n",
      "47 the accidental virgin by valerie frank\n",
      "48 the taoo pooh book cover\n",
      "49 a book cover of seabiscuit an american legend\n",
      "50 arafed plaid book cover with a white sign on it\n",
      "51 a green book cover with a cross and a yellow arrow\n",
      "52 a picture of a book cover of the ruby in the smoke\n",
      "53 anil's ghost by michael ondatie\n",
      "54 a yellow book cover with a picture of a horse on it\n",
      "55 a close up of a toaster with a cd on top of it\n",
      "56 a poster for the movie desperher\n",
      "57 a close up of a book cover with a horse on it\n",
      "58 9\n",
      "59 a picture of a book cover with a dragon flying over a castle\n",
      "60 a book cover with a picture of a group of people on horseback\n",
      "61 a black and white photo of a woman standing in a cemetery\n",
      "62 a book cover of pretend don't see her\n",
      "63 a close up of a cup of coffee with a red lip on it\n",
      "64 a book cover of female intelligence\n",
      "65 a close up of a book cover with a person on a skateboard\n",
      "66 rich dad poor dad why the rich teach their kids about money that poor and middle class dads\n",
      "67 a book cover of the pillars of the earth\n",
      "68 a picture taken from a book of a painting of a man and woman\n",
      "69 a book cover with a ferris wheel on the cover\n",
      "70 a book cover of star trek the next generation\n",
      "71 blood oath by david morrell\n",
      "72 the alibi brown by sandra brown\n",
      "73 a close up of a book cover of the beach house\n",
      "74 a kiss remembered by sandra brown\n",
      "75 a close up of a book cover with a clock tower in the background\n",
      "76 dead aim by johnensen\n",
      "77 angels demons by dan brown\n",
      "78 a close up of a person holding a money in a suit\n",
      "79 a book cover of all he ever wanted by anita shreve\n",
      "80 every breath you take a true story of obsession, revenge, and murder\n",
      "81 9\n",
      "82 9\n",
      "83 a book cover of the girl who loved tom gordon\n",
      "84 arafed dog sleeping on a bed with a child and a dog\n",
      "85 a book cover of a glass of whiskey with dice and a card\n",
      "86 the sun of all tears by tom clancy\n",
      "87 a close up of a business card with a picture of a man and woman\n",
      "88 9\n",
      "89 lady in green and minor indiscrations by barbara metzzer\n",
      "90 a close up of a woman laying on a bed with a tennis racket\n",
      "91 a book cover of a little girl jumping in the air\n",
      "92 a book cover of coyotete waits\n",
      "93 before i say goodbye by mary higgins clark clark clark clark clark clark clark clark clark clark clark clark\n",
      "94 a book cover with a painting of a man walking down a road\n",
      "95 a book cover of a young girl sitting on the steps of a building\n",
      "96 the cover of the book next, with a yellow and black text\n",
      "97 gangsterer a novel of suspense and suspense\n",
      "98 hush what's your greatest fear?\n",
      "99 whispers of evil a novel by kay hooper\n"
     ]
    }
   ],
   "source": [
    "#example of the book covers as text:\n",
    "for i in range(100):\n",
    "    print(i, df.iloc[i]['cover_page'])"
   ]
  },
  {
   "cell_type": "code",
   "execution_count": 24,
   "id": "424305e5",
   "metadata": {},
   "outputs": [],
   "source": [
    "df_category.to_csv('cover_page.csv')\n",
    "df =df_category.copy()\n",
    "df_category.drop(['Unnamed: 0.7','Unnamed: 0.6','Unnamed: 0.5','Unnamed: 0.4','Unnamed: 0.3','Unnamed: 0.2','Unnamed: 0.1','Unnamed: 0'],axis=1,inplace=True)"
   ]
  },
  {
   "cell_type": "markdown",
   "id": "91fb9f79",
   "metadata": {},
   "source": [
    "In this section, I process all the data, and do PCA for the embedding products of the book images, the book title, and the book summary together"
   ]
  },
  {
   "cell_type": "code",
   "execution_count": 5,
   "id": "9ce09b89",
   "metadata": {},
   "outputs": [
    {
     "data": {
      "application/vnd.jupyter.widget-view+json": {
       "model_id": "40dad2e1bad34fccb62ae7a387d738e9",
       "version_major": 2,
       "version_minor": 0
      },
      "text/plain": [
       "Batches:   0%|          | 0/21 [00:00<?, ?it/s]"
      ]
     },
     "metadata": {},
     "output_type": "display_data"
    },
    {
     "data": {
      "application/vnd.jupyter.widget-view+json": {
       "model_id": "9a01bddcc76a428e863c7b0b1ef50604",
       "version_major": 2,
       "version_minor": 0
      },
      "text/plain": [
       "Batches:   0%|          | 0/649 [00:00<?, ?it/s]"
      ]
     },
     "metadata": {},
     "output_type": "display_data"
    },
    {
     "data": {
      "application/vnd.jupyter.widget-view+json": {
       "model_id": "d4770750aada418ab5ee4948ffdd4751",
       "version_major": 2,
       "version_minor": 0
      },
      "text/plain": [
       "Batches:   0%|          | 0/783 [00:00<?, ?it/s]"
      ]
     },
     "metadata": {},
     "output_type": "display_data"
    }
   ],
   "source": [
    "from book_funcs import category_cleaner,df_cleaner, category_compliter, zero_droper, category_embedding, pca_embedding\n",
    "df = pd.read_csv(r\"C:\\Users\\yotam\\Desktop\\naya\\Preprocessed_data.csv\")\n",
    "df_category = pd.read_csv(r'cover_page.csv')\n",
    "df_isbn = df['isbn']\n",
    "num_dict = {}\n",
    "for i,j in enumerate(df_isbn.unique()):\n",
    "    num_dict[j]=i\n",
    "df['isbn_num'] = df['isbn'].apply(lambda txt: num_dict[txt])\n",
    "df = category_cleaner(df)\n",
    "df = df_cleaner(df)\n",
    "df = category_compliter(df)\n",
    "df = df.merge(df_category, how='left', on='img_l')\n",
    "df = category_embedding(df)\n",
    "df = category_embedding(df, col ='Summary')\n",
    "df = category_embedding(df, col ='cover_page')\n",
    "from sklearn.decomposition import PCA\n",
    "df = df.drop(['Embedding_cat_x','Embedding_cat_y','Embedding_cat'],axis=1)\n",
    "embeded_cols = [col for col in df.columns if ('Embedding' in col)]\n",
    "not_embeded_cols = [col for col in df.columns if ('Embedding' not in col)]\n",
    "df_embeding = df.drop(not_embeded_cols,axis=1)\n",
    "df = df.drop(embeded_cols,axis=1)\n",
    "#df.drop_duplicates(subset='isbn_num', keep=\"first\",inplace=True)\n",
    "pca = PCA()\n",
    "df_embeding = pca.fit_transform(df_embeding)\n",
    "df_embeding_df = pd.DataFrame(df_embeding)\n",
    "df_embeding_df = df_embeding_df.drop([i for i in range(300,1152)],axis=1)\n",
    "df = pd.merge(df.reset_index(), df_embeding_df.reset_index(), on = 'index', how = \"left\")\n",
    "df = df.drop('index',axis =1)\n",
    "df.to_csv('df_after_pca_with_cover.csv')"
   ]
  },
  {
   "cell_type": "markdown",
   "id": "4f4b96cf",
   "metadata": {},
   "source": [
    "In this section I do PCA for the embedding products of the book cover image only."
   ]
  },
  {
   "cell_type": "code",
   "execution_count": 44,
   "id": "7e041746",
   "metadata": {},
   "outputs": [],
   "source": [
    "from book_funcs import category_cleaner,df_cleaner, category_compliter, zero_droper, category_embedding, pca_embedding\n",
    "df = pd.read_csv(r\"C:\\Users\\yotam\\Desktop\\naya\\Preprocessed_data.csv\")\n",
    "df_category = pd.read_csv(r'cover_page.csv')"
   ]
  },
  {
   "cell_type": "code",
   "execution_count": 45,
   "id": "8ef20adc",
   "metadata": {},
   "outputs": [
    {
     "name": "stdout",
     "output_type": "stream",
     "text": [
      "The original data frame shape:\t(1031175, 20)\n",
      "The data frame shape after bookk filtering:\t(629588, 20)\n",
      "The new data frame shape:\t(581111, 20)\n"
     ]
    },
    {
     "data": {
      "application/vnd.jupyter.widget-view+json": {
       "model_id": "27fde1165a2948fb9dd1d6a624c92eba",
       "version_major": 2,
       "version_minor": 0
      },
      "text/plain": [
       "Batches:   0%|          | 0/783 [00:00<?, ?it/s]"
      ]
     },
     "metadata": {},
     "output_type": "display_data"
    }
   ],
   "source": [
    "df_isbn = df['isbn']\n",
    "num_dict = {}\n",
    "for i,j in enumerate(df_isbn.unique()):\n",
    "    num_dict[j]=i\n",
    "df['isbn_num'] = df['isbn'].apply(lambda txt: num_dict[txt])\n",
    "df = category_cleaner(df)\n",
    "df = df_cleaner(df)\n",
    "df = category_compliter(df)\n",
    "df = zero_droper(df)\n",
    "df = df.merge(df_category, how='left', on='img_l')\n",
    "#df = category_embedding(df)\n",
    "#df = category_embedding(df, col ='Summary')\n",
    "df = category_embedding(df, col ='cover_page')\n",
    "from sklearn.decomposition import PCA\n",
    "df = df.drop(['Embedding_cat'],axis=1)\n",
    "embeded_cols = [col for col in df.columns if ('Embedding' in col)]\n",
    "not_embeded_cols = [col for col in df.columns if ('Embedding' not in col)]\n",
    "df_embeding = df.drop(not_embeded_cols,axis=1)\n",
    "df = df.drop(embeded_cols,axis=1)"
   ]
  },
  {
   "cell_type": "markdown",
   "id": "4333b0f6",
   "metadata": {},
   "source": [
    "the PCA"
   ]
  },
  {
   "cell_type": "code",
   "execution_count": 48,
   "id": "df643699",
   "metadata": {},
   "outputs": [
    {
     "data": {
      "text/plain": [
       "0.8897090882402773"
      ]
     },
     "execution_count": 48,
     "metadata": {},
     "output_type": "execute_result"
    }
   ],
   "source": [
    "pca = PCA()\n",
    "df_embeding2 = pca.fit_transform(df_embeding)\n",
    "df_embeding_df = pd.DataFrame(df_embeding2)\n",
    "df_embeding_df = df_embeding_df.drop([i for i in range(150,383)],axis=1)\n",
    "df = pd.merge(df.reset_index(), df_embeding_df.reset_index(), on = 'index', how = \"left\")\n",
    "df = df.drop('index',axis =1)\n",
    "sum(pca.explained_variance_ratio_[0:150])"
   ]
  },
  {
   "cell_type": "code",
   "execution_count": 58,
   "id": "b50ba48f",
   "metadata": {},
   "outputs": [],
   "source": [
    "df = df.drop([383],axis=1)\n",
    "embeded_cols = [i for i in range(0,150)] +['isbn']\n",
    "not_embeded_cols = [col for col in df.columns if (col not in embeded_cols)]\n",
    "df = df.drop(not_embeded_cols,axis=1)\n",
    "df =df.drop_duplicates()\n",
    "df.to_csv('df_cover_pca.csv')"
   ]
  }
 ],
 "metadata": {
  "kernelspec": {
   "display_name": "Python 3 (ipykernel)",
   "language": "python",
   "name": "python3"
  },
  "language_info": {
   "codemirror_mode": {
    "name": "ipython",
    "version": 3
   },
   "file_extension": ".py",
   "mimetype": "text/x-python",
   "name": "python",
   "nbconvert_exporter": "python",
   "pygments_lexer": "ipython3",
   "version": "3.9.13"
  }
 },
 "nbformat": 4,
 "nbformat_minor": 5
}
